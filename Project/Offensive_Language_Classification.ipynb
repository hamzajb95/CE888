{
  "nbformat": 4,
  "nbformat_minor": 0,
  "metadata": {
    "colab": {
      "name": "Offensive Language Classification.ipynb",
      "provenance": [],
      "collapsed_sections": [],
      "authorship_tag": "ABX9TyMt22869AZDUDSv5OBhi1IJ",
      "include_colab_link": true
    },
    "kernelspec": {
      "name": "python3",
      "display_name": "Python 3"
    },
    "language_info": {
      "name": "python"
    },
    "accelerator": "GPU"
  },
  "cells": [
    {
      "cell_type": "markdown",
      "metadata": {
        "id": "view-in-github",
        "colab_type": "text"
      },
      "source": [
        "<a href=\"https://colab.research.google.com/github/hamzajb95/CE888/blob/main/Project/Offensive_Language_Classification.ipynb\" target=\"_parent\"><img src=\"https://colab.research.google.com/assets/colab-badge.svg\" alt=\"Open In Colab\"/></a>"
      ]
    },
    {
      "cell_type": "code",
      "metadata": {
        "colab": {
          "base_uri": "https://localhost:8080/"
        },
        "id": "KBP6RRww2YYH",
        "outputId": "4512abc0-f1ed-41fe-9090-7b02468053b8"
      },
      "source": [
        " !pip install transformers"
      ],
      "execution_count": null,
      "outputs": [
        {
          "output_type": "stream",
          "text": [
            "Requirement already satisfied: transformers in /usr/local/lib/python3.7/dist-packages (4.5.1)\n",
            "Requirement already satisfied: importlib-metadata; python_version < \"3.8\" in /usr/local/lib/python3.7/dist-packages (from transformers) (3.10.1)\n",
            "Requirement already satisfied: sacremoses in /usr/local/lib/python3.7/dist-packages (from transformers) (0.0.45)\n",
            "Requirement already satisfied: tokenizers<0.11,>=0.10.1 in /usr/local/lib/python3.7/dist-packages (from transformers) (0.10.2)\n",
            "Requirement already satisfied: numpy>=1.17 in /usr/local/lib/python3.7/dist-packages (from transformers) (1.19.5)\n",
            "Requirement already satisfied: packaging in /usr/local/lib/python3.7/dist-packages (from transformers) (20.9)\n",
            "Requirement already satisfied: requests in /usr/local/lib/python3.7/dist-packages (from transformers) (2.23.0)\n",
            "Requirement already satisfied: filelock in /usr/local/lib/python3.7/dist-packages (from transformers) (3.0.12)\n",
            "Requirement already satisfied: tqdm>=4.27 in /usr/local/lib/python3.7/dist-packages (from transformers) (4.41.1)\n",
            "Requirement already satisfied: regex!=2019.12.17 in /usr/local/lib/python3.7/dist-packages (from transformers) (2019.12.20)\n",
            "Requirement already satisfied: zipp>=0.5 in /usr/local/lib/python3.7/dist-packages (from importlib-metadata; python_version < \"3.8\"->transformers) (3.4.1)\n",
            "Requirement already satisfied: typing-extensions>=3.6.4; python_version < \"3.8\" in /usr/local/lib/python3.7/dist-packages (from importlib-metadata; python_version < \"3.8\"->transformers) (3.7.4.3)\n",
            "Requirement already satisfied: joblib in /usr/local/lib/python3.7/dist-packages (from sacremoses->transformers) (1.0.1)\n",
            "Requirement already satisfied: click in /usr/local/lib/python3.7/dist-packages (from sacremoses->transformers) (7.1.2)\n",
            "Requirement already satisfied: six in /usr/local/lib/python3.7/dist-packages (from sacremoses->transformers) (1.15.0)\n",
            "Requirement already satisfied: pyparsing>=2.0.2 in /usr/local/lib/python3.7/dist-packages (from packaging->transformers) (2.4.7)\n",
            "Requirement already satisfied: idna<3,>=2.5 in /usr/local/lib/python3.7/dist-packages (from requests->transformers) (2.10)\n",
            "Requirement already satisfied: urllib3!=1.25.0,!=1.25.1,<1.26,>=1.21.1 in /usr/local/lib/python3.7/dist-packages (from requests->transformers) (1.24.3)\n",
            "Requirement already satisfied: certifi>=2017.4.17 in /usr/local/lib/python3.7/dist-packages (from requests->transformers) (2020.12.5)\n",
            "Requirement already satisfied: chardet<4,>=3.0.2 in /usr/local/lib/python3.7/dist-packages (from requests->transformers) (3.0.4)\n"
          ],
          "name": "stdout"
        }
      ]
    },
    {
      "cell_type": "code",
      "metadata": {
        "colab": {
          "base_uri": "https://localhost:8080/"
        },
        "id": "NV6XliLW3rcK",
        "outputId": "349b21bd-feff-4064-a665-4856cda3d444"
      },
      "source": [
        "!nvidia-smi"
      ],
      "execution_count": null,
      "outputs": [
        {
          "output_type": "stream",
          "text": [
            "Thu Apr 29 02:41:00 2021       \n",
            "+-----------------------------------------------------------------------------+\n",
            "| NVIDIA-SMI 465.19.01    Driver Version: 460.32.03    CUDA Version: 11.2     |\n",
            "|-------------------------------+----------------------+----------------------+\n",
            "| GPU  Name        Persistence-M| Bus-Id        Disp.A | Volatile Uncorr. ECC |\n",
            "| Fan  Temp  Perf  Pwr:Usage/Cap|         Memory-Usage | GPU-Util  Compute M. |\n",
            "|                               |                      |               MIG M. |\n",
            "|===============================+======================+======================|\n",
            "|   0  Tesla T4            Off  | 00000000:00:04.0 Off |                    0 |\n",
            "| N/A   77C    P0    33W /  70W |   9730MiB / 15109MiB |      0%      Default |\n",
            "|                               |                      |                  N/A |\n",
            "+-------------------------------+----------------------+----------------------+\n",
            "                                                                               \n",
            "+-----------------------------------------------------------------------------+\n",
            "| Processes:                                                                  |\n",
            "|  GPU   GI   CI        PID   Type   Process name                  GPU Memory |\n",
            "|        ID   ID                                                   Usage      |\n",
            "|=============================================================================|\n",
            "+-----------------------------------------------------------------------------+\n"
          ],
          "name": "stdout"
        }
      ]
    },
    {
      "cell_type": "code",
      "metadata": {
        "id": "JTB6QExT2jUl"
      },
      "source": [
        "import urllib\n",
        "import numpy as np\n",
        "import pandas as pd\n",
        "import seaborn as sns\n",
        "import re\n",
        "import matplotlib.pyplot as plt\n",
        "import transformers as ppb\n",
        "import torch\n",
        "from torch.utils.data import DataLoader\n",
        "from torch.utils.data import Dataset\n",
        "from sklearn.model_selection import train_test_split\n",
        "from torch import nn\n",
        "from torch.nn import functional as F\n",
        "import collections\n",
        "from sklearn.metrics import confusion_matrix,classification_report\n",
        "import pprint\n",
        "from transformers import AutoModel, AutoTokenizer\n",
        "\n",
        "\n",
        "\n",
        "\n",
        "\n",
        "\n",
        "\n"
      ],
      "execution_count": null,
      "outputs": []
    },
    {
      "cell_type": "code",
      "metadata": {
        "id": "09dmB___4mU9"
      },
      "source": [
        "device = torch.device(type='cuda', index=0)"
      ],
      "execution_count": null,
      "outputs": []
    },
    {
      "cell_type": "code",
      "metadata": {
        "id": "7ktp765S3ASL"
      },
      "source": [
        "pd.set_option('display.max_colwidth', None)\n",
        "\n",
        "#Importing data for emotion dataset\n",
        "url_mapping = 'https://raw.githubusercontent.com/cardiffnlp/tweeteval/main/datasets/offensive/mapping.txt'\n",
        "url_trainText = 'https://raw.githubusercontent.com/cardiffnlp/tweeteval/main/datasets/offensive/train_text.txt'\n",
        "url_trainLabel = 'https://raw.githubusercontent.com/cardiffnlp/tweeteval/main/datasets/offensive/train_labels.txt'\n",
        "url_testText = 'https://raw.githubusercontent.com/cardiffnlp/tweeteval/main/datasets/offensive/test_text.txt'\n",
        "url_testLabel = 'https://raw.githubusercontent.com/cardiffnlp/tweeteval/main/datasets/offensive/test_labels.txt'\n",
        "\n",
        "off_list = [url_mapping,url_trainText,url_trainLabel,url_testText,url_testLabel]"
      ],
      "execution_count": null,
      "outputs": []
    },
    {
      "cell_type": "code",
      "metadata": {
        "id": "AVfa5Idc23Nu"
      },
      "source": [
        "#You pass the url to the function and you are returned a list\n",
        "def getText(url):\n",
        "    response = urllib.request.urlopen(url)\n",
        "    Text = response.read()\n",
        "    Text=Text.decode(\"utf-8\")\n",
        "    lines = Text.split('\\n')\n",
        "    return lines[:]"
      ],
      "execution_count": null,
      "outputs": []
    },
    {
      "cell_type": "code",
      "metadata": {
        "id": "Ev2PNWSY3Kj0"
      },
      "source": [
        "#Removes @users tags from the tweets and return the train and test data\n",
        "def preProcess(urlList):\n",
        "  mapping = getText(urlList[0])\n",
        "  train_text = getText(urlList[1])[:-1]\n",
        "  train_labels = getText(urlList[2])[:-1]\n",
        "  test_text = getText(urlList[3])[:-1]\n",
        "  test_labels = getText(urlList[4])[:-1]\n",
        "\n",
        "  #Turn those train and test lists into Dataframes.\n",
        "  df=pd.DataFrame({\"tweet\":train_text,\"label\":train_labels}) #change name to df_train\n",
        "  df_test = pd.DataFrame({\"tweet\":test_text, \"label\":test_labels})\n",
        "\n",
        "  \n",
        "\n",
        "  #We are now going to remove the @user tags from tweets for both train and test sets.\n",
        "  df['tweet']=df['tweet'].apply(lambda x: re.sub('@user','', x))\n",
        "  df_test['tweet']=df_test['tweet'].apply(lambda x: re.sub('@user','', x))\n",
        "\n",
        "  print(mapping)\n",
        "  \n",
        "  return df, df_test, mapping"
      ],
      "execution_count": null,
      "outputs": []
    },
    {
      "cell_type": "code",
      "metadata": {
        "colab": {
          "base_uri": "https://localhost:8080/",
          "height": 586
        },
        "id": "Ltmpz3gw4KUC",
        "outputId": "89cdaae1-8499-40d6-ace7-aac896eca1b1"
      },
      "source": [
        "off_data = preProcess(off_list)\n",
        "off_train = off_data[0]\n",
        "off_test = off_data[1]\n",
        "off_train\n"
      ],
      "execution_count": null,
      "outputs": [
        {
          "output_type": "stream",
          "text": [
            "['0\\tnot-offensive', '1\\toffensive', '']\n"
          ],
          "name": "stdout"
        },
        {
          "output_type": "execute_result",
          "data": {
            "text/html": [
              "<div>\n",
              "<style scoped>\n",
              "    .dataframe tbody tr th:only-of-type {\n",
              "        vertical-align: middle;\n",
              "    }\n",
              "\n",
              "    .dataframe tbody tr th {\n",
              "        vertical-align: top;\n",
              "    }\n",
              "\n",
              "    .dataframe thead th {\n",
              "        text-align: right;\n",
              "    }\n",
              "</style>\n",
              "<table border=\"1\" class=\"dataframe\">\n",
              "  <thead>\n",
              "    <tr style=\"text-align: right;\">\n",
              "      <th></th>\n",
              "      <th>tweet</th>\n",
              "      <th>label</th>\n",
              "    </tr>\n",
              "  </thead>\n",
              "  <tbody>\n",
              "    <tr>\n",
              "      <th>0</th>\n",
              "      <td>Bono... who cares. Soon people will understand that they gain nothing from following a phony celebrity. Become a Leader of your people instead or help and support your fellow countrymen.</td>\n",
              "      <td>0</td>\n",
              "    </tr>\n",
              "    <tr>\n",
              "      <th>1</th>\n",
              "      <td>Eight years the republicans denied obama’s picks. Breitbarters outrage is as phony as their fake president.</td>\n",
              "      <td>1</td>\n",
              "    </tr>\n",
              "    <tr>\n",
              "      <th>2</th>\n",
              "      <td>Get him some line help. He is gonna be just fine. As the game went on you could see him progressing more with his reads. He brought what has been missing. The deep ball presence. Now he just needs a little more time</td>\n",
              "      <td>0</td>\n",
              "    </tr>\n",
              "    <tr>\n",
              "      <th>3</th>\n",
              "      <td>She is great. Hi Fiona!</td>\n",
              "      <td>0</td>\n",
              "    </tr>\n",
              "    <tr>\n",
              "      <th>4</th>\n",
              "      <td>She has become a parody unto herself? She has certainly taken some heat for being such an....well idiot. Could be optic too  Who know with Liberals  They're all optics.  No substance</td>\n",
              "      <td>1</td>\n",
              "    </tr>\n",
              "    <tr>\n",
              "      <th>...</th>\n",
              "      <td>...</td>\n",
              "      <td>...</td>\n",
              "    </tr>\n",
              "    <tr>\n",
              "      <th>11911</th>\n",
              "      <td>I wonder if they are sex traffic victims?</td>\n",
              "      <td>1</td>\n",
              "    </tr>\n",
              "    <tr>\n",
              "      <th>11912</th>\n",
              "      <td>Do we dare say he is... better than Nyjer?</td>\n",
              "      <td>0</td>\n",
              "    </tr>\n",
              "    <tr>\n",
              "      <th>11913</th>\n",
              "      <td>No idea who he is. Sorry</td>\n",
              "      <td>0</td>\n",
              "    </tr>\n",
              "    <tr>\n",
              "      <th>11914</th>\n",
              "      <td>#Professor Who Shot Self Over Trump Says Gun Control Was Actual Goal #AR-15</td>\n",
              "      <td>0</td>\n",
              "    </tr>\n",
              "    <tr>\n",
              "      <th>11915</th>\n",
              "      <td>Here your proof!  Our African 🇺🇸 friends don't get free college.  The Demoncratic are putting illegals over 🇺🇸 ppl. These Antifa Ninja Turtles running around acting like jihadist and never lived a real life experience. Most of these Antifa colleges kids are White privileged</td>\n",
              "      <td>1</td>\n",
              "    </tr>\n",
              "  </tbody>\n",
              "</table>\n",
              "<p>11916 rows × 2 columns</p>\n",
              "</div>"
            ],
            "text/plain": [
              "                                                                                                                                                                                                                                                                                        tweet label\n",
              "0                                                                                                 Bono... who cares. Soon people will understand that they gain nothing from following a phony celebrity. Become a Leader of your people instead or help and support your fellow countrymen.      0\n",
              "1                                                                                                                                                                                Eight years the republicans denied obama’s picks. Breitbarters outrage is as phony as their fake president.      1\n",
              "2                                                                    Get him some line help. He is gonna be just fine. As the game went on you could see him progressing more with his reads. He brought what has been missing. The deep ball presence. Now he just needs a little more time      0\n",
              "3                                                                                                                                                                                                                                                                    She is great. Hi Fiona!      0\n",
              "4                                                                                                     She has become a parody unto herself? She has certainly taken some heat for being such an....well idiot. Could be optic too  Who know with Liberals  They're all optics.  No substance      1\n",
              "...                                                                                                                                                                                                                                                                                       ...   ...\n",
              "11911                                                                                                                                                                                                                                              I wonder if they are sex traffic victims?      1\n",
              "11912                                                                                                                                                                                                                                             Do we dare say he is... better than Nyjer?      0\n",
              "11913                                                                                                                                                                                                                                                               No idea who he is. Sorry      0\n",
              "11914                                                                                                                                                                                                            #Professor Who Shot Self Over Trump Says Gun Control Was Actual Goal #AR-15      0\n",
              "11915     Here your proof!  Our African 🇺🇸 friends don't get free college.  The Demoncratic are putting illegals over 🇺🇸 ppl. These Antifa Ninja Turtles running around acting like jihadist and never lived a real life experience. Most of these Antifa colleges kids are White privileged      1\n",
              "\n",
              "[11916 rows x 2 columns]"
            ]
          },
          "metadata": {
            "tags": []
          },
          "execution_count": 45
        }
      ]
    },
    {
      "cell_type": "code",
      "metadata": {
        "id": "L6jfdO1dBOqn"
      },
      "source": [
        "label_names = ['not-offensive','offensive']"
      ],
      "execution_count": null,
      "outputs": []
    },
    {
      "cell_type": "code",
      "metadata": {
        "colab": {
          "base_uri": "https://localhost:8080/",
          "height": 366
        },
        "id": "-aqwTDsR4MlF",
        "outputId": "58d2132f-1252-4e17-dbdd-6b62c5793c6a"
      },
      "source": [
        "sns.countplot(off_train.label)\n",
        "plt.xlabel('off labels');\n",
        "plt.title(\"Label Count Train Set\")"
      ],
      "execution_count": null,
      "outputs": [
        {
          "output_type": "stream",
          "text": [
            "/usr/local/lib/python3.7/dist-packages/seaborn/_decorators.py:43: FutureWarning: Pass the following variable as a keyword arg: x. From version 0.12, the only valid positional argument will be `data`, and passing other arguments without an explicit keyword will result in an error or misinterpretation.\n",
            "  FutureWarning\n"
          ],
          "name": "stderr"
        },
        {
          "output_type": "execute_result",
          "data": {
            "text/plain": [
              "Text(0.5, 1.0, 'Label Count Train Set')"
            ]
          },
          "metadata": {
            "tags": []
          },
          "execution_count": 47
        },
        {
          "output_type": "display_data",
          "data": {
            "image/png": "[encoded data removed]",
            "text/plain": [
              "<Figure size 432x288 with 1 Axes>"
            ]
          },
          "metadata": {
            "tags": [],
            "needs_background": "light"
          }
        }
      ]
    },
    {
      "cell_type": "code",
      "metadata": {
        "colab": {
          "base_uri": "https://localhost:8080/",
          "height": 366
        },
        "id": "1Oa4w33K7we8",
        "outputId": "d2acd26e-8b36-4308-ec4d-f514d47375f8"
      },
      "source": [
        "sns.countplot(off_test.label)\n",
        "plt.xlabel('off labels');\n",
        "plt.title(\"Label Count Test Set\")"
      ],
      "execution_count": null,
      "outputs": [
        {
          "output_type": "stream",
          "text": [
            "/usr/local/lib/python3.7/dist-packages/seaborn/_decorators.py:43: FutureWarning: Pass the following variable as a keyword arg: x. From version 0.12, the only valid positional argument will be `data`, and passing other arguments without an explicit keyword will result in an error or misinterpretation.\n",
            "  FutureWarning\n"
          ],
          "name": "stderr"
        },
        {
          "output_type": "execute_result",
          "data": {
            "text/plain": [
              "Text(0.5, 1.0, 'Label Count Test Set')"
            ]
          },
          "metadata": {
            "tags": []
          },
          "execution_count": 48
        },
        {
          "output_type": "display_data",
          "data": {
            "image/png": "[encoded data removed]",
            "text/plain": [
              "<Figure size 432x288 with 1 Axes>"
            ]
          },
          "metadata": {
            "tags": [],
            "needs_background": "light"
          }
        }
      ]
    },
    {
      "cell_type": "code",
      "metadata": {
        "colab": {
          "base_uri": "https://localhost:8080/",
          "height": 536
        },
        "id": "dHghM7DWE4hF",
        "outputId": "048e5d1e-af34-4af9-913e-a1f198060bf9"
      },
      "source": [
        "##  Lets create an Validation set as well from the training set\n",
        "off_train, off_val = train_test_split(off_train, test_size=0.2, random_state = 23, stratify=off_train['label'])\n",
        "off_val\n",
        "\n"
      ],
      "execution_count": null,
      "outputs": [
        {
          "output_type": "execute_result",
          "data": {
            "text/html": [
              "<div>\n",
              "<style scoped>\n",
              "    .dataframe tbody tr th:only-of-type {\n",
              "        vertical-align: middle;\n",
              "    }\n",
              "\n",
              "    .dataframe tbody tr th {\n",
              "        vertical-align: top;\n",
              "    }\n",
              "\n",
              "    .dataframe thead th {\n",
              "        text-align: right;\n",
              "    }\n",
              "</style>\n",
              "<table border=\"1\" class=\"dataframe\">\n",
              "  <thead>\n",
              "    <tr style=\"text-align: right;\">\n",
              "      <th></th>\n",
              "      <th>tweet</th>\n",
              "      <th>label</th>\n",
              "    </tr>\n",
              "  </thead>\n",
              "  <tbody>\n",
              "    <tr>\n",
              "      <th>7970</th>\n",
              "      <td>You rock brother. I am proud of my Antifa badge of honor I earned last year!</td>\n",
              "      <td>0</td>\n",
              "    </tr>\n",
              "    <tr>\n",
              "      <th>1567</th>\n",
              "      <td>Make sure you Vote REPUBLICAN up and down your ballots. Vote RED for conservative  values. Vote Republican candidates only to help our POTUS Trump help Americans to MAGA</td>\n",
              "      <td>0</td>\n",
              "    </tr>\n",
              "    <tr>\n",
              "      <th>4132</th>\n",
              "      <td>Elon has been smoking too much dope and he apparently got a bad batch. Even I knew that vessel he sent would not work to rescue the #ThailandChildren.  quit.</td>\n",
              "      <td>0</td>\n",
              "    </tr>\n",
              "    <tr>\n",
              "      <th>522</th>\n",
              "      <td>Congratulations to our Great American President. We will be doing great things together! MAGA  I-Q-2  WWG1WGA</td>\n",
              "      <td>0</td>\n",
              "    </tr>\n",
              "    <tr>\n",
              "      <th>8876</th>\n",
              "      <td>‼️ WE THE PEOPLE WILL DEFEAT YOU ‼️  #MAGA  #MSAGA (MakeSouthAfricaGreatAgain)</td>\n",
              "      <td>0</td>\n",
              "    </tr>\n",
              "    <tr>\n",
              "      <th>...</th>\n",
              "      <td>...</td>\n",
              "      <td>...</td>\n",
              "    </tr>\n",
              "    <tr>\n",
              "      <th>3486</th>\n",
              "      <td>Liberals believe in the Constitution.   It's just ultra leftists that don't</td>\n",
              "      <td>0</td>\n",
              "    </tr>\n",
              "    <tr>\n",
              "      <th>3727</th>\n",
              "      <td>Why does every gathering of liberals look like something I wish I had not seen?</td>\n",
              "      <td>0</td>\n",
              "    </tr>\n",
              "    <tr>\n",
              "      <th>2130</th>\n",
              "      <td>Antifa is a terrorist organization not a lawful protest. Trump needs to declare Martial Law and Shut Em Down proper.</td>\n",
              "      <td>0</td>\n",
              "    </tr>\n",
              "    <tr>\n",
              "      <th>8289</th>\n",
              "      <td>Oh no I know why that I just don't know what she is talking about because I don't see a tweet she is repling too lol</td>\n",
              "      <td>0</td>\n",
              "    </tr>\n",
              "    <tr>\n",
              "      <th>1752</th>\n",
              "      <td>When tRUmp posts shit like this you know that he is distracting from something else that is going on. #Distractification</td>\n",
              "      <td>1</td>\n",
              "    </tr>\n",
              "  </tbody>\n",
              "</table>\n",
              "<p>2384 rows × 2 columns</p>\n",
              "</div>"
            ],
            "text/plain": [
              "                                                                                                                                                                           tweet label\n",
              "7970                                                                                               You rock brother. I am proud of my Antifa badge of honor I earned last year!      0\n",
              "1567  Make sure you Vote REPUBLICAN up and down your ballots. Vote RED for conservative  values. Vote Republican candidates only to help our POTUS Trump help Americans to MAGA      0\n",
              "4132              Elon has been smoking too much dope and he apparently got a bad batch. Even I knew that vessel he sent would not work to rescue the #ThailandChildren.  quit.      0\n",
              "522                                                               Congratulations to our Great American President. We will be doing great things together! MAGA  I-Q-2  WWG1WGA      0\n",
              "8876                                                                               ‼️ WE THE PEOPLE WILL DEFEAT YOU ‼️  #MAGA  #MSAGA (MakeSouthAfricaGreatAgain)                    0\n",
              "...                                                                                                                                                                          ...   ...\n",
              "3486                                                                                                Liberals believe in the Constitution.   It's just ultra leftists that don't      0\n",
              "3727                                                                                            Why does every gathering of liberals look like something I wish I had not seen?      0\n",
              "2130                                                       Antifa is a terrorist organization not a lawful protest. Trump needs to declare Martial Law and Shut Em Down proper.      0\n",
              "8289                                                       Oh no I know why that I just don't know what she is talking about because I don't see a tweet she is repling too lol      0\n",
              "1752                                                   When tRUmp posts shit like this you know that he is distracting from something else that is going on. #Distractification      1\n",
              "\n",
              "[2384 rows x 2 columns]"
            ]
          },
          "metadata": {
            "tags": []
          },
          "execution_count": 49
        }
      ]
    },
    {
      "cell_type": "code",
      "metadata": {
        "colab": {
          "base_uri": "https://localhost:8080/",
          "height": 366
        },
        "id": "aarMrjjdG-wr",
        "outputId": "a492bace-1fde-4fcc-d4e5-e1e5455c820f"
      },
      "source": [
        "sns.countplot(off_val.label)\n",
        "plt.xlabel('off labels');\n",
        "plt.title(\"Label Count Validation Set\")"
      ],
      "execution_count": null,
      "outputs": [
        {
          "output_type": "stream",
          "text": [
            "/usr/local/lib/python3.7/dist-packages/seaborn/_decorators.py:43: FutureWarning: Pass the following variable as a keyword arg: x. From version 0.12, the only valid positional argument will be `data`, and passing other arguments without an explicit keyword will result in an error or misinterpretation.\n",
            "  FutureWarning\n"
          ],
          "name": "stderr"
        },
        {
          "output_type": "execute_result",
          "data": {
            "text/plain": [
              "Text(0.5, 1.0, 'Label Count Validation Set')"
            ]
          },
          "metadata": {
            "tags": []
          },
          "execution_count": 50
        },
        {
          "output_type": "display_data",
          "data": {
            "image/png": "[encoded data removed]",
            "text/plain": [
              "<Figure size 432x288 with 1 Axes>"
            ]
          },
          "metadata": {
            "tags": [],
            "needs_background": "light"
          }
        }
      ]
    },
    {
      "cell_type": "markdown",
      "metadata": {
        "id": "qB5XAs5G7Ns6"
      },
      "source": [
        "# Data Preprocessing\n"
      ]
    },
    {
      "cell_type": "code",
      "metadata": {
        "id": "FsRcj9lQ7Pks"
      },
      "source": [
        "#Lets call the Bert pretrained tokenizer and the Bert Model\n",
        "PRE_TRAINED_MODEL_NAME = 'vinai/bertweet-base'\n",
        "tokenizer = AutoTokenizer.from_pretrained(PRE_TRAINED_MODEL_NAME,use_fast=False)\n",
        "\n"
      ],
      "execution_count": null,
      "outputs": []
    },
    {
      "cell_type": "code",
      "metadata": {
        "id": "p1o8vnc3_qy2"
      },
      "source": [
        "# def BertTok(df):\n",
        "\n",
        "#   ### We need each list in tokenized to have the same length\n",
        "#   ### We do this by first getting the tweet with the biggest length\n",
        "#   ### and Padding the rest as per required to get each sentence to maxLen\n",
        "\n",
        "#   maxLen = 0\n",
        "#   for i in df.tweet.values:\n",
        "#     if len(i) > maxLen:\n",
        "#       maxLen = len(i)\n",
        "      \n",
        "#   print(maxLen)\n",
        "\n",
        "#   #tokenize\n",
        "#   tokenized = df['tweet'].apply((lambda x: tokenizer.encode_plus(x,\n",
        "#                                                                  max_length = maxLen,\n",
        "#                                                                  add_special_tokens=True,\n",
        "#                                                                  return_token_type_ids = False,\n",
        "#                                                                  pad_to_max_length=True,\n",
        "#                                                                  return_attention_mask=True,\n",
        "#                                                                  return_tensors='pt',\n",
        "#                                                                  )))\n",
        "\n",
        "#   print(tokenized[0])\n",
        "  \n",
        "\n",
        "#   #paded = np.array([i + [0]*(maxLen-len(i)) for i in tokenized.values])\n",
        "#   #print(paded.shape) #So just to be clear the maxLen was 35 as that is not the length of each numpy array.\n",
        "\n",
        "#   #We need to create another numpy array which gives 0 to ignore the mask and 1 to accept the Token\n",
        "#   #attention_mask = np.where(paded != 0,1,0)\n",
        "\n",
        "\n",
        "#   #print(attention_mask.shape)\n"
      ],
      "execution_count": null,
      "outputs": []
    },
    {
      "cell_type": "code",
      "metadata": {
        "id": "ye2HgV_OAv0v"
      },
      "source": [
        "# emot_trainFeat = BertTok(emot_train)"
      ],
      "execution_count": null,
      "outputs": []
    },
    {
      "cell_type": "markdown",
      "metadata": {
        "id": "WCrZi62D5055"
      },
      "source": [
        "### From torch import Dataset and create pytorch Dataset"
      ]
    },
    {
      "cell_type": "code",
      "metadata": {
        "id": "KjNBSM3F58uC"
      },
      "source": [
        "#We are going to turn the pandas dataframes into Pytorch Datasets using the\n",
        "#TweetDataset class.\n",
        "class TweetDataset(Dataset):\n",
        "  ##Create constructor\n",
        "  def __init__(self, tweets, labels, tokenizer, max_len):\n",
        "    self.tweets = tweets\n",
        "    self.labels = labels\n",
        "    self.tokenizer = tokenizer\n",
        "    self.max_len = max_len\n",
        "  \n",
        "  ##Mandatory function for length of dataset\n",
        "  def  __len__(self):\n",
        "    return len(self.tweets)\n",
        "\n",
        "  ##Mandatory getter function to retrieve item\n",
        "  def __getitem__(self,item):\n",
        "    tweet = str(self.tweets[item])\n",
        "    label = int(self.labels[item])\n",
        "\n",
        "    ##Encoding function from transformers tokenizers with extra parameter settings to pad, return attention mask etc etc\n",
        "    encoding = self.tokenizer.encode_plus(tweet,\n",
        "                                    max_length = self.max_len,\n",
        "                                    add_special_tokens=True,\n",
        "                                    return_token_type_ids = False,\n",
        "                                    pad_to_max_length=True,\n",
        "                                    return_attention_mask=True,\n",
        "                                    return_tensors='pt',\n",
        "                          )\n",
        "  \n",
        "    ##Return the transformed input Ids and the attention mask along with tensored labels\n",
        "    return {\n",
        "        'tweet_text':tweet,\n",
        "        'input_ids':encoding['input_ids'].flatten(),\n",
        "        'attention_mask':encoding['attention_mask'].flatten(),\n",
        "        'labels':torch.tensor(label, dtype=torch.long)\n",
        "    }\n"
      ],
      "execution_count": null,
      "outputs": []
    },
    {
      "cell_type": "code",
      "metadata": {
        "colab": {
          "base_uri": "https://localhost:8080/"
        },
        "id": "ej_8Oc6nIT6t",
        "outputId": "8732ee91-42e0-4aa0-cf98-8fc4f47f3338"
      },
      "source": [
        "off_train.shape,off_val.shape, off_test.shape"
      ],
      "execution_count": null,
      "outputs": [
        {
          "output_type": "execute_result",
          "data": {
            "text/plain": [
              "((9532, 2), (2384, 2), (860, 2))"
            ]
          },
          "metadata": {
            "tags": []
          },
          "execution_count": 55
        }
      ]
    },
    {
      "cell_type": "markdown",
      "metadata": {
        "id": "IEs9E-RlZH7Z"
      },
      "source": [
        "### Now we create the Data Loader"
      ]
    },
    {
      "cell_type": "code",
      "metadata": {
        "id": "0UXxfWzcZL2S"
      },
      "source": [
        "def create_data_loader(df, tokenizer, max_len, batch_size):\n",
        "  ds = TweetDataset(\n",
        "      tweets = df.tweet.to_numpy(),\n",
        "      labels = df.label.to_numpy(),\n",
        "      tokenizer = tokenizer,\n",
        "      max_len = max_len\n",
        "  )\n",
        "  \n",
        "  return DataLoader(\n",
        "      ds,\n",
        "      batch_size = batch_size,\n",
        "      num_workers = 2\n",
        "  )\n"
      ],
      "execution_count": null,
      "outputs": []
    },
    {
      "cell_type": "code",
      "metadata": {
        "id": "erXIqm1JAZ86"
      },
      "source": [
        "MAX_LEN = 163\n",
        "BATCH_SIZE = 16\n",
        "EPOCHS = 10"
      ],
      "execution_count": null,
      "outputs": []
    },
    {
      "cell_type": "code",
      "metadata": {
        "id": "mGzSSk62bsLq"
      },
      "source": [
        "#Lets call the Bert pretrained tokenizer and the Bert Model\n",
        "PRE_TRAINED_MODEL_NAME = 'vinai/bertweet-base'\n",
        "tokenizer = AutoTokenizer.from_pretrained(PRE_TRAINED_MODEL_NAME, use_fast=False)\n",
        "\n",
        "## Lets call the Data Loader for all of our datasets train,val,test\n",
        "off_train_dataload = create_data_loader(off_train, tokenizer, MAX_LEN, BATCH_SIZE)\n",
        "off_val_dataload = create_data_loader(off_val, tokenizer, MAX_LEN, BATCH_SIZE)\n",
        "off_test_dataload = create_data_loader(off_test, tokenizer, MAX_LEN, BATCH_SIZE)\n"
      ],
      "execution_count": null,
      "outputs": []
    },
    {
      "cell_type": "markdown",
      "metadata": {
        "id": "SEoCCbfrD_tb"
      },
      "source": [
        "###Just checking the dataloaders"
      ]
    },
    {
      "cell_type": "code",
      "metadata": {
        "colab": {
          "base_uri": "https://localhost:8080/"
        },
        "id": "c9fcLU80oKL0",
        "outputId": "b6e14fcb-1e42-4b35-ef7d-75ed250db087"
      },
      "source": [
        "data = next(iter(off_train_dataload))\n",
        "print(data.keys())\n",
        "print(data['input_ids'][0])\n",
        "print(data['attention_mask'].shape)\n",
        "print(data['labels'].shape)"
      ],
      "execution_count": null,
      "outputs": [
        {
          "output_type": "stream",
          "text": [
            "Truncation was not explicitly activated but `max_length` is provided a specific value, please use `truncation=True` to explicitly truncate examples to max length. Defaulting to 'longest_first' truncation strategy. If you encode pairs of sequences (GLUE-style) with the tokenizer you can select this strategy more precisely by providing a specific strategy to `truncation`.\n",
            "/usr/local/lib/python3.7/dist-packages/transformers/tokenization_utils_base.py:2079: FutureWarning: The `pad_to_max_length` argument is deprecated and will be removed in a future version, use `padding=True` or `padding='longest'` to pad to the longest sequence in the batch, or use `padding='max_length'` to pad to a max length. In this case, you can give a specific length with `max_length` (e.g. `max_length=45`) or leave max_length to None to pad to the maximal input size of the model (e.g. 512 for Bert).\n",
            "  FutureWarning,\n",
            "Truncation was not explicitly activated but `max_length` is provided a specific value, please use `truncation=True` to explicitly truncate examples to max length. Defaulting to 'longest_first' truncation strategy. If you encode pairs of sequences (GLUE-style) with the tokenizer you can select this strategy more precisely by providing a specific strategy to `truncation`.\n",
            "/usr/local/lib/python3.7/dist-packages/transformers/tokenization_utils_base.py:2079: FutureWarning: The `pad_to_max_length` argument is deprecated and will be removed in a future version, use `padding=True` or `padding='longest'` to pad to the longest sequence in the batch, or use `padding='max_length'` to pad to a max length. In this case, you can give a specific length with `max_length` (e.g. `max_length=45`) or leave max_length to None to pad to the maximal input size of the model (e.g. 512 for Bert).\n",
            "  FutureWarning,\n"
          ],
          "name": "stderr"
        },
        {
          "output_type": "stream",
          "text": [
            "dict_keys(['tweet_text', 'input_ids', 'attention_mask', 'labels'])\n",
            "tensor([   0,  689,   58,  323,   91, 5654,   21,  126,   17,   11, 1746, 2717,\n",
            "          15, 1968, 1205,    2,    1,    1,    1,    1,    1,    1,    1,    1,\n",
            "           1,    1,    1,    1,    1,    1,    1,    1,    1,    1,    1,    1,\n",
            "           1,    1,    1,    1,    1,    1,    1,    1,    1,    1,    1,    1,\n",
            "           1,    1,    1,    1,    1,    1,    1,    1,    1,    1,    1,    1,\n",
            "           1,    1,    1,    1,    1,    1,    1,    1,    1,    1,    1,    1,\n",
            "           1,    1,    1,    1,    1,    1,    1,    1,    1,    1,    1,    1,\n",
            "           1,    1,    1,    1,    1,    1,    1,    1,    1,    1,    1,    1,\n",
            "           1,    1,    1,    1,    1,    1,    1,    1,    1,    1,    1,    1,\n",
            "           1,    1,    1,    1,    1,    1,    1,    1,    1,    1,    1,    1,\n",
            "           1,    1,    1,    1,    1,    1,    1,    1,    1,    1,    1,    1,\n",
            "           1,    1,    1,    1,    1,    1,    1,    1,    1,    1,    1,    1,\n",
            "           1,    1,    1,    1,    1,    1,    1,    1,    1,    1,    1,    1,\n",
            "           1,    1,    1,    1,    1,    1,    1])\n",
            "torch.Size([16, 163])\n",
            "torch.Size([16])\n"
          ],
          "name": "stdout"
        }
      ]
    },
    {
      "cell_type": "markdown",
      "metadata": {
        "id": "tVZhMt3d0bVl"
      },
      "source": [
        "###Now lets call the BERT model"
      ]
    },
    {
      "cell_type": "code",
      "metadata": {
        "id": "73sWDt5L0ag_"
      },
      "source": [
        "bert_model = AutoModel.from_pretrained(PRE_TRAINED_MODEL_NAME,return_dict=False)"
      ],
      "execution_count": null,
      "outputs": []
    },
    {
      "cell_type": "code",
      "metadata": {
        "id": "olk3pXgcMPZr"
      },
      "source": [
        "class SentimentClassifier(nn.Module):\n",
        "\n",
        "  def __init__(self, n_classes):\n",
        "    super(SentimentClassifier, self).__init__()\n",
        "    self.bert = AutoModel.from_pretrained(PRE_TRAINED_MODEL_NAME, return_dict = False)\n",
        "    self.drop = nn.Dropout(p=0.3)\n",
        "    self.out= nn.Linear(self.bert.config.hidden_size,n_classes)\n",
        "    self.softmax = nn.Softmax(dim=1)\n",
        "  \n",
        "  def forward(self, input_ids, attention_mask):\n",
        "    _, pooled_output = self.bert(  #last_hidden_state is denoted as _ as we will not use it\n",
        "    input_ids = input_ids,\n",
        "    attention_mask = attention_mask\n",
        "    )\n",
        "    output=self.drop(pooled_output)\n",
        "    output=self.out(output)\n",
        "    return self.softmax(output)"
      ],
      "execution_count": null,
      "outputs": []
    },
    {
      "cell_type": "code",
      "metadata": {
        "id": "dj0IBmwSe94w"
      },
      "source": [
        "model = SentimentClassifier(len(off_data[2]))\n",
        "model = model.to(device)"
      ],
      "execution_count": null,
      "outputs": []
    },
    {
      "cell_type": "markdown",
      "metadata": {
        "id": "yCZ34Sh_DvLQ"
      },
      "source": [
        "###Lets start with the training of the model"
      ]
    },
    {
      "cell_type": "code",
      "metadata": {
        "colab": {
          "base_uri": "https://localhost:8080/"
        },
        "id": "G7Jly9Dwg7RU",
        "outputId": "96ebb0cf-6bbf-431f-f6a1-cd8d60f076ed"
      },
      "source": [
        "## Just a test\n",
        "input_ids = data['input_ids'].to(device)\n",
        "attention_mask = data['attention_mask'].to(device)\n",
        "print(input_ids.shape,attention_mask.shape)\n",
        "print(type(input_ids[0]))"
      ],
      "execution_count": null,
      "outputs": [
        {
          "output_type": "stream",
          "text": [
            "torch.Size([16, 163]) torch.Size([16, 163])\n",
            "<class 'torch.Tensor'>\n"
          ],
          "name": "stdout"
        }
      ]
    },
    {
      "cell_type": "code",
      "metadata": {
        "colab": {
          "base_uri": "https://localhost:8080/"
        },
        "id": "Ilkt6AExLWan",
        "outputId": "479c9f8c-7a2a-4fdf-bc68-bf7e48737a76"
      },
      "source": [
        "model(input_ids,attention_mask)"
      ],
      "execution_count": null,
      "outputs": [
        {
          "output_type": "execute_result",
          "data": {
            "text/plain": [
              "tensor([[0.2630, 0.3786, 0.3584],\n",
              "        [0.2748, 0.3821, 0.3430],\n",
              "        [0.2893, 0.3693, 0.3414],\n",
              "        [0.2726, 0.3670, 0.3604],\n",
              "        [0.2893, 0.3461, 0.3646],\n",
              "        [0.3237, 0.3652, 0.3111],\n",
              "        [0.2848, 0.3618, 0.3535],\n",
              "        [0.2822, 0.3507, 0.3671],\n",
              "        [0.2806, 0.3544, 0.3650],\n",
              "        [0.2985, 0.3686, 0.3330],\n",
              "        [0.2976, 0.3406, 0.3618],\n",
              "        [0.3099, 0.3442, 0.3459],\n",
              "        [0.2830, 0.3578, 0.3592],\n",
              "        [0.2494, 0.3635, 0.3872],\n",
              "        [0.2850, 0.3264, 0.3886],\n",
              "        [0.3150, 0.3549, 0.3301]], device='cuda:0', grad_fn=<SoftmaxBackward>)"
            ]
          },
          "metadata": {
            "tags": []
          },
          "execution_count": 64
        }
      ]
    },
    {
      "cell_type": "markdown",
      "metadata": {
        "id": "FBQbVwQPQK5Y"
      },
      "source": [
        "#Training "
      ]
    },
    {
      "cell_type": "code",
      "metadata": {
        "id": "VY--C7AbQH76"
      },
      "source": [
        "#In line with the paper that introduced BERT we are going to use the Adam algorithm with weight decay fix as our optimizer\n",
        "\n",
        "optimizer = ppb.AdamW(model.parameters(), lr=2e-5, correct_bias=False)\n",
        "total_steps = len(off_train_dataload)*EPOCHS\n",
        "\n",
        "\n",
        "scheduler = ppb.get_linear_schedule_with_warmup(\n",
        "    optimizer,\n",
        "    num_warmup_steps=0,\n",
        "    num_training_steps=total_steps\n",
        ")\n",
        "loss_fn = nn.CrossEntropyLoss().to(device)"
      ],
      "execution_count": null,
      "outputs": []
    },
    {
      "cell_type": "markdown",
      "metadata": {
        "id": "0VIrPQDdUQO8"
      },
      "source": [
        "Helper function for training our model for one(each) EPOCH:"
      ]
    },
    {
      "cell_type": "code",
      "metadata": {
        "id": "1YRinkTnUc4H"
      },
      "source": [
        "def train_epoch(model,data_loader,loss_fn,optimizer,device,scheduler,n_examples):\n",
        "  model = model.train()\n",
        "  \n",
        "  losses = []\n",
        "  correct_pred = 0\n",
        "\n",
        "  for d in data_loader:\n",
        "    input_ids = d['input_ids'].to(device)\n",
        "    attention_mask = d['attention_mask'].to(device)\n",
        "    labels = d['labels'].to(device)\n",
        "\n",
        "    outputs = model(input_ids=input_ids, attention_mask=attention_mask)\n",
        "\n",
        "    _,preds = torch.max(outputs, dim=1)\n",
        "    loss = loss_fn(outputs, labels)\n",
        "\n",
        "    correct_pred += torch.sum(preds==labels)\n",
        "    losses.append(loss.item())\n",
        "\n",
        "    loss.backward()\n",
        "    nn.utils.clip_grad_norm_(model.parameters(), max_norm=1.0)\n",
        "    optimizer.step()\n",
        "    scheduler.step()\n",
        "    optimizer.zero_grad()\n",
        "\n",
        "  return correct_pred.double()/n_examples, np.mean(losses)"
      ],
      "execution_count": null,
      "outputs": []
    },
    {
      "cell_type": "markdown",
      "metadata": {
        "id": "zCQ8WFtCYSUt"
      },
      "source": [
        "Training the model should look familiar, except for two things. The scheduler gets called every time a batch is fed to the model. We're avoiding exploding gradients by clipping the gradients of the model using clip_grad_norm_.\n",
        "\n",
        "Let's write another one that helps us evaluate the model on a given data loader:"
      ]
    },
    {
      "cell_type": "code",
      "metadata": {
        "id": "2dYlBSyEYTXd"
      },
      "source": [
        "def eval_model(model, data_loader, loss_fn, device, n_examples):\n",
        "  model = model.eval()\n",
        "\n",
        "  losses = []\n",
        "  correct_pred = 0\n",
        "\n",
        "  for d in data_loader:\n",
        "    input_ids = d['input_ids'].to(device)\n",
        "    attention_mask = d['attention_mask'].to(device)\n",
        "    labels = d['labels'].to(device)\n",
        "\n",
        "    outputs = model(input_ids=input_ids, attention_mask=attention_mask)\n",
        "\n",
        "    _,preds = torch.max(outputs, dim=1)\n",
        "    loss = loss_fn(outputs, labels)\n",
        "\n",
        "    correct_pred += torch.sum(preds == labels)\n",
        "    losses.append(loss.item())\n",
        "  return correct_pred.double() / n_examples, np.mean(losses)"
      ],
      "execution_count": null,
      "outputs": []
    },
    {
      "cell_type": "markdown",
      "metadata": {
        "id": "yJjrFrIddGNC"
      },
      "source": [
        "Using the above 2 helper functions and the declaration of the optimizer, scheduler and loss function we can now write our training loop.\n"
      ]
    },
    {
      "cell_type": "code",
      "metadata": {
        "id": "acHk8kYGdF0y"
      },
      "source": [
        "%%time\n",
        "torch.cuda.empty_cache()\n",
        "history = collections.defaultdict(list)\n",
        "best_accuracy = 0\n",
        "\n",
        "for epoch in range(EPOCHS):\n",
        "\n",
        "  print(f'Epoch {epoch + 1}/{EPOCHS}')\n",
        "  print('-' * 10)\n",
        "\n",
        "  train_acc, train_loss = train_epoch(model,off_train_dataload,loss_fn,optimizer,\n",
        "                                      device,scheduler,len(off_train))\n",
        "\n",
        "  print(f'Train loss {train_loss} accuracy {train_acc}')\n",
        "\n",
        "  val_acc, val_loss = eval_model(model,off_val_dataload,loss_fn, device,\n",
        "                                 len(off_val))\n",
        "\n",
        "  print(f'Val   loss {val_loss} accuracy {val_acc}')\n",
        "  \n",
        "\n",
        "  history['train_acc'].append(train_acc)\n",
        "  history['train_loss'].append(train_loss)\n",
        "  history['val_acc'].append(val_acc)\n",
        "  history['val_loss'].append(val_loss)\n",
        "\n",
        "  #We are determining the best model using the validation accuracy and then\n",
        "  #storing the state of the best model.\n",
        "  if val_acc > best_accuracy:\n",
        "    torch.save(model.state_dict(), 'best_model_state.bin')\n",
        "    best_accuracy = val_acc"
      ],
      "execution_count": null,
      "outputs": []
    },
    {
      "cell_type": "code",
      "metadata": {
        "colab": {
          "base_uri": "https://localhost:8080/",
          "height": 295
        },
        "id": "oZSPAdNfy3Hf",
        "outputId": "48ce13bd-9523-4912-f522-78721242ac48"
      },
      "source": [
        "plt.plot(history['train_acc'], label='train accuracy')\n",
        "plt.plot(history['val_acc'], label='validation accuracy')\n",
        "\n",
        "plt.title('Training history')\n",
        "plt.ylabel('Accuracy')\n",
        "plt.xlabel('Epoch')\n",
        "plt.legend()\n",
        "plt.ylim([0, 1]);"
      ],
      "execution_count": null,
      "outputs": [
        {
          "output_type": "display_data",
          "data": {
            "image/png": "[encoded data removed]",
            "text/plain": [
              "<Figure size 432x288 with 1 Axes>"
            ]
          },
          "metadata": {
            "tags": [],
            "needs_background": "light"
          }
        }
      ]
    },
    {
      "cell_type": "markdown",
      "metadata": {
        "id": "_LIYq99QzJjb"
      },
      "source": [
        "#Evaluation"
      ]
    },
    {
      "cell_type": "code",
      "metadata": {
        "id": "D45KULcvzPSX"
      },
      "source": [
        "test_acc, _ = eval_model(model,off_test_dataload,loss_fn,device,len(off_test))\n",
        "test_acc.item()"
      ],
      "execution_count": null,
      "outputs": []
    },
    {
      "cell_type": "code",
      "metadata": {
        "id": "V_lgdXWY2Pjr"
      },
      "source": [
        "def get_predictions(model,data_loader):\n",
        "  model = model.eval()\n",
        "\n",
        "  tweet_texts = []\n",
        "  predictions = []\n",
        "  prediction_probs = []\n",
        "  real_values = []\n",
        "\n",
        "  with torch.no_grad():\n",
        "    for d in data_loader:\n",
        "      tweets = d[\"tweet_text\"]\n",
        "      input_ids = d[\"input_ids\"].to(device)\n",
        "      attention_mask = d[\"attention_mask\"].to(device)\n",
        "      labels = d[\"labels\"].to(device)\n",
        "\n",
        "      outputs = model(input_ids=input_ids, attention_mask=attention_mask)\n",
        "\n",
        "      _,preds = torch.max(outputs, dim=1)\n",
        "      probs = F.softmax(outputs, dim=1)\n",
        "\n",
        "      tweet_texts.extend(tweets)\n",
        "      predictions.extend(preds)\n",
        "      prediction_probs.extend(probs)\n",
        "      real_values.extend(labels)\n",
        "\n",
        "  predictions = torch.stack(predictions).cpu()\n",
        "  prediction_probs = torch.stack(prediction_probs).cpu()\n",
        "  real_values = torch.stack(real_values).cpu()\n",
        "\n",
        "  return tweet_texts, predictions, prediction_probs, real_values\n"
      ],
      "execution_count": null,
      "outputs": []
    },
    {
      "cell_type": "code",
      "metadata": {
        "id": "nFpjHcqYATKn"
      },
      "source": [
        "y_review_texts, y_pred, y_pred_probs, y_test = get_predictions(\n",
        "  model,\n",
        "  off_test_dataload\n",
        ")"
      ],
      "execution_count": null,
      "outputs": []
    },
    {
      "cell_type": "code",
      "metadata": {
        "colab": {
          "base_uri": "https://localhost:8080/"
        },
        "id": "-mjtCuISBXjP",
        "outputId": "f6b1c138-0d7f-41b3-d49f-e9818dbdac19"
      },
      "source": [
        "print(classification_report(y_test, y_pred, target_names=label_names))"
      ],
      "execution_count": null,
      "outputs": [
        {
          "output_type": "stream",
          "text": [
            "               precision    recall  f1-score   support\n",
            "\n",
            "not-offensive       0.89      0.91      0.90       620\n",
            "    offensive       0.75      0.70      0.72       240\n",
            "\n",
            "     accuracy                           0.85       860\n",
            "    macro avg       0.82      0.80      0.81       860\n",
            " weighted avg       0.85      0.85      0.85       860\n",
            "\n"
          ],
          "name": "stdout"
        }
      ]
    },
    {
      "cell_type": "code",
      "metadata": {
        "colab": {
          "base_uri": "https://localhost:8080/",
          "height": 311
        },
        "id": "UsQSglGiB8wB",
        "outputId": "0eb3680a-b939-45bc-e804-96795b7954ce"
      },
      "source": [
        "def show_confusion_matrix(confusion_matrix):\n",
        "  hmap = sns.heatmap(confusion_matrix, annot=True, fmt=\"d\", cmap=\"Blues\")\n",
        "  hmap.yaxis.set_ticklabels(hmap.yaxis.get_ticklabels(), rotation=0, ha='right')\n",
        "  hmap.xaxis.set_ticklabels(hmap.xaxis.get_ticklabels(), rotation=30, ha='right')\n",
        "  plt.ylabel('True Emotion')\n",
        "  plt.xlabel('Predicted Emotion');\n",
        "\n",
        "cm = confusion_matrix(y_test, y_pred)\n",
        "df_cm = pd.DataFrame(cm, index=label_names, columns=label_names)\n",
        "show_confusion_matrix(df_cm)"
      ],
      "execution_count": null,
      "outputs": [
        {
          "output_type": "display_data",
          "data": {
            "image/png": "[encoded data removed]",
            "text/plain": [
              "<Figure size 432x288 with 2 Axes>"
            ]
          },
          "metadata": {
            "tags": [],
            "needs_background": "light"
          }
        }
      ]
    }
  ]
}