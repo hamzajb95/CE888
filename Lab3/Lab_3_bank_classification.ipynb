{
  "nbformat": 4,
  "nbformat_minor": 0,
  "metadata": {
    "colab": {
      "name": "Lab_3_bank_classification.ipynb",
      "provenance": [],
      "toc_visible": true,
      "include_colab_link": true
    },
    "kernelspec": {
      "name": "python3",
      "display_name": "Python 3"
    },
    "language_info": {
      "name": "python"
    }
  },
  "cells": [
    {
      "cell_type": "markdown",
      "metadata": {
        "id": "view-in-github",
        "colab_type": "text"
      },
      "source": [
        "<a href=\"https://colab.research.google.com/github/hamzajb95/CE888/blob/main/Lab3/Lab_3_bank_classification.ipynb\" target=\"_parent\"><img src=\"https://colab.research.google.com/assets/colab-badge.svg\" alt=\"Open In Colab\"/></a>"
      ]
    },
    {
      "cell_type": "markdown",
      "metadata": {
        "id": "OmLcH-MRZm-Y"
      },
      "source": [
        "# Bank Data Classifier"
      ]
    },
    {
      "cell_type": "markdown",
      "metadata": {
        "id": "ImMker5yZoRh"
      },
      "source": [
        "## Importing Libraries & Loading Data"
      ]
    },
    {
      "cell_type": "code",
      "metadata": {
        "id": "Dnw029U_SGUD"
      },
      "source": [
        "# Importing Libraries \n",
        "\n",
        "import pandas as pd\n",
        "import numpy as np\n",
        "from sklearn.preprocessing import LabelEncoder\n",
        "import matplotlib.pyplot as plt\n",
        "import seaborn as sns\n",
        "from sklearn.model_selection import train_test_split, cross_validate, GridSearchCV\n",
        "from sklearn.ensemble import RandomForestClassifier\n",
        "from sklearn.dummy import DummyClassifier\n",
        "from sklearn import metrics"
      ],
      "execution_count": 1,
      "outputs": []
    },
    {
      "cell_type": "code",
      "metadata": {
        "colab": {
          "base_uri": "https://localhost:8080/",
          "height": 215
        },
        "id": "CfnnpSL7S39J",
        "outputId": "e5e632a0-8cf0-433c-de7e-1ee50eec4d54"
      },
      "source": [
        "# Loading Data\n",
        "\n",
        "data = pd.read_csv('https://raw.githubusercontent.com/neerajthandayan/Misc./main/Lab_3/bank-additional-full.csv',delimiter=';')\n",
        "data.drop(columns='duration',inplace=True)\n",
        "data.head(5)"
      ],
      "execution_count": 2,
      "outputs": [
        {
          "output_type": "execute_result",
          "data": {
            "text/html": [
              "<div>\n",
              "<style scoped>\n",
              "    .dataframe tbody tr th:only-of-type {\n",
              "        vertical-align: middle;\n",
              "    }\n",
              "\n",
              "    .dataframe tbody tr th {\n",
              "        vertical-align: top;\n",
              "    }\n",
              "\n",
              "    .dataframe thead th {\n",
              "        text-align: right;\n",
              "    }\n",
              "</style>\n",
              "<table border=\"1\" class=\"dataframe\">\n",
              "  <thead>\n",
              "    <tr style=\"text-align: right;\">\n",
              "      <th></th>\n",
              "      <th>age</th>\n",
              "      <th>job</th>\n",
              "      <th>marital</th>\n",
              "      <th>education</th>\n",
              "      <th>default</th>\n",
              "      <th>housing</th>\n",
              "      <th>loan</th>\n",
              "      <th>contact</th>\n",
              "      <th>month</th>\n",
              "      <th>day_of_week</th>\n",
              "      <th>campaign</th>\n",
              "      <th>pdays</th>\n",
              "      <th>previous</th>\n",
              "      <th>poutcome</th>\n",
              "      <th>emp.var.rate</th>\n",
              "      <th>cons.price.idx</th>\n",
              "      <th>cons.conf.idx</th>\n",
              "      <th>euribor3m</th>\n",
              "      <th>nr.employed</th>\n",
              "      <th>y</th>\n",
              "    </tr>\n",
              "  </thead>\n",
              "  <tbody>\n",
              "    <tr>\n",
              "      <th>0</th>\n",
              "      <td>56</td>\n",
              "      <td>housemaid</td>\n",
              "      <td>married</td>\n",
              "      <td>basic.4y</td>\n",
              "      <td>no</td>\n",
              "      <td>no</td>\n",
              "      <td>no</td>\n",
              "      <td>telephone</td>\n",
              "      <td>may</td>\n",
              "      <td>mon</td>\n",
              "      <td>1</td>\n",
              "      <td>999</td>\n",
              "      <td>0</td>\n",
              "      <td>nonexistent</td>\n",
              "      <td>1.1</td>\n",
              "      <td>93.994</td>\n",
              "      <td>-36.4</td>\n",
              "      <td>4.857</td>\n",
              "      <td>5191.0</td>\n",
              "      <td>no</td>\n",
              "    </tr>\n",
              "    <tr>\n",
              "      <th>1</th>\n",
              "      <td>57</td>\n",
              "      <td>services</td>\n",
              "      <td>married</td>\n",
              "      <td>high.school</td>\n",
              "      <td>unknown</td>\n",
              "      <td>no</td>\n",
              "      <td>no</td>\n",
              "      <td>telephone</td>\n",
              "      <td>may</td>\n",
              "      <td>mon</td>\n",
              "      <td>1</td>\n",
              "      <td>999</td>\n",
              "      <td>0</td>\n",
              "      <td>nonexistent</td>\n",
              "      <td>1.1</td>\n",
              "      <td>93.994</td>\n",
              "      <td>-36.4</td>\n",
              "      <td>4.857</td>\n",
              "      <td>5191.0</td>\n",
              "      <td>no</td>\n",
              "    </tr>\n",
              "    <tr>\n",
              "      <th>2</th>\n",
              "      <td>37</td>\n",
              "      <td>services</td>\n",
              "      <td>married</td>\n",
              "      <td>high.school</td>\n",
              "      <td>no</td>\n",
              "      <td>yes</td>\n",
              "      <td>no</td>\n",
              "      <td>telephone</td>\n",
              "      <td>may</td>\n",
              "      <td>mon</td>\n",
              "      <td>1</td>\n",
              "      <td>999</td>\n",
              "      <td>0</td>\n",
              "      <td>nonexistent</td>\n",
              "      <td>1.1</td>\n",
              "      <td>93.994</td>\n",
              "      <td>-36.4</td>\n",
              "      <td>4.857</td>\n",
              "      <td>5191.0</td>\n",
              "      <td>no</td>\n",
              "    </tr>\n",
              "    <tr>\n",
              "      <th>3</th>\n",
              "      <td>40</td>\n",
              "      <td>admin.</td>\n",
              "      <td>married</td>\n",
              "      <td>basic.6y</td>\n",
              "      <td>no</td>\n",
              "      <td>no</td>\n",
              "      <td>no</td>\n",
              "      <td>telephone</td>\n",
              "      <td>may</td>\n",
              "      <td>mon</td>\n",
              "      <td>1</td>\n",
              "      <td>999</td>\n",
              "      <td>0</td>\n",
              "      <td>nonexistent</td>\n",
              "      <td>1.1</td>\n",
              "      <td>93.994</td>\n",
              "      <td>-36.4</td>\n",
              "      <td>4.857</td>\n",
              "      <td>5191.0</td>\n",
              "      <td>no</td>\n",
              "    </tr>\n",
              "    <tr>\n",
              "      <th>4</th>\n",
              "      <td>56</td>\n",
              "      <td>services</td>\n",
              "      <td>married</td>\n",
              "      <td>high.school</td>\n",
              "      <td>no</td>\n",
              "      <td>no</td>\n",
              "      <td>yes</td>\n",
              "      <td>telephone</td>\n",
              "      <td>may</td>\n",
              "      <td>mon</td>\n",
              "      <td>1</td>\n",
              "      <td>999</td>\n",
              "      <td>0</td>\n",
              "      <td>nonexistent</td>\n",
              "      <td>1.1</td>\n",
              "      <td>93.994</td>\n",
              "      <td>-36.4</td>\n",
              "      <td>4.857</td>\n",
              "      <td>5191.0</td>\n",
              "      <td>no</td>\n",
              "    </tr>\n",
              "  </tbody>\n",
              "</table>\n",
              "</div>"
            ],
            "text/plain": [
              "   age        job  marital  ... euribor3m nr.employed   y\n",
              "0   56  housemaid  married  ...     4.857      5191.0  no\n",
              "1   57   services  married  ...     4.857      5191.0  no\n",
              "2   37   services  married  ...     4.857      5191.0  no\n",
              "3   40     admin.  married  ...     4.857      5191.0  no\n",
              "4   56   services  married  ...     4.857      5191.0  no\n",
              "\n",
              "[5 rows x 20 columns]"
            ]
          },
          "metadata": {
            "tags": []
          },
          "execution_count": 2
        }
      ]
    },
    {
      "cell_type": "markdown",
      "metadata": {
        "id": "yzd1EqX_aXVh"
      },
      "source": [
        "## Data Exploratuon & Pre-processing"
      ]
    },
    {
      "cell_type": "code",
      "metadata": {
        "colab": {
          "base_uri": "https://localhost:8080/"
        },
        "id": "5xpVyFdVWPa2",
        "outputId": "1939270e-1617-4cbe-b1a6-e6e7f23467ad"
      },
      "source": [
        "# Check for NaN values in Dataset\n",
        "\n",
        "print(data.isnull().values.any(),data.isnull().sum().sum())"
      ],
      "execution_count": 3,
      "outputs": [
        {
          "output_type": "stream",
          "text": [
            "False 0\n"
          ],
          "name": "stdout"
        }
      ]
    },
    {
      "cell_type": "code",
      "metadata": {
        "id": "fkyoRhx3Urhi"
      },
      "source": [
        "# Apply One-Hot Encoding to the Categorical Features\n",
        "\n",
        "data = pd.get_dummies(data, columns=['job','marital','default','education',\n",
        "                                           'housing','loan','contact','month',\n",
        "                                           'day_of_week','poutcome'])"
      ],
      "execution_count": 4,
      "outputs": []
    },
    {
      "cell_type": "code",
      "metadata": {
        "id": "7tteCS7VUyS0"
      },
      "source": [
        "# Label encoding for the Labels given in dataset \n",
        "\n",
        "le = LabelEncoder()\n",
        "data['y'] = le.fit_transform(data['y'])"
      ],
      "execution_count": 5,
      "outputs": []
    },
    {
      "cell_type": "code",
      "metadata": {
        "id": "wv6zkGMOTAr2"
      },
      "source": [
        "# Seperate the features from the label for future train test split\n",
        "\n",
        "target = data['y'].values \n",
        "feature = data.drop(columns='y').copy().values"
      ],
      "execution_count": 6,
      "outputs": []
    },
    {
      "cell_type": "code",
      "metadata": {
        "colab": {
          "base_uri": "https://localhost:8080/",
          "height": 350
        },
        "id": "DhWRvPQpTnD4",
        "outputId": "c0f53418-d2ce-4668-a6b4-5f3a8695898e"
      },
      "source": [
        "# PLotting Histogram of Label\n",
        "\n",
        "plot = sns.countplot(data['y'])\n",
        "plot.set_xticklabels(['No','Yes'])"
      ],
      "execution_count": 7,
      "outputs": [
        {
          "output_type": "stream",
          "text": [
            "/usr/local/lib/python3.7/dist-packages/seaborn/_decorators.py:43: FutureWarning: Pass the following variable as a keyword arg: x. From version 0.12, the only valid positional argument will be `data`, and passing other arguments without an explicit keyword will result in an error or misinterpretation.\n",
            "  FutureWarning\n"
          ],
          "name": "stderr"
        },
        {
          "output_type": "execute_result",
          "data": {
            "text/plain": [
              "[Text(0, 0, 'No'), Text(0, 0, 'Yes')]"
            ]
          },
          "metadata": {
            "tags": []
          },
          "execution_count": 7
        },
        {
          "output_type": "display_data",
          "data": {
            "image/png": "[encoded data removed]",
            "text/plain": [
              "<Figure size 432x288 with 1 Axes>"
            ]
          },
          "metadata": {
            "tags": [],
            "needs_background": "light"
          }
        }
      ]
    },
    {
      "cell_type": "code",
      "metadata": {
        "colab": {
          "base_uri": "https://localhost:8080/"
        },
        "id": "9UY4jYadYs4D",
        "outputId": "ba8a0e1e-d6c3-4d68-b3b5-3e0f388c2e8c"
      },
      "source": [
        "# Calculating Data Imbalance\n",
        "\n",
        "cnt = np.unique(data['y'],return_counts=True)\n",
        "imbalance = cnt[1][1]/cnt[1][0]\n",
        "print(f'Dataset Imbalance: {imbalance}')"
      ],
      "execution_count": 8,
      "outputs": [
        {
          "output_type": "stream",
          "text": [
            "Dataset Imbalance: 0.126956331399803\n"
          ],
          "name": "stdout"
        }
      ]
    },
    {
      "cell_type": "code",
      "metadata": {
        "id": "L1hFAbEJZluc"
      },
      "source": [
        "# Creating Test-Train Split\n",
        "\n",
        "feat_train, feat_test, target_train, target_test = train_test_split(feature, target, test_size=0.2, random_state=50 ,stratify=target)"
      ],
      "execution_count": 9,
      "outputs": []
    },
    {
      "cell_type": "markdown",
      "metadata": {
        "id": "psJ2PjwhkbEU"
      },
      "source": [
        "## Cross-validation & Dummy Classifier Test"
      ]
    },
    {
      "cell_type": "code",
      "metadata": {
        "id": "qD5Ft6JcbkvD"
      },
      "source": [
        "# K-Fold Cross Validation\n",
        "\n",
        "clf = RandomForestClassifier(n_estimators=100, max_depth=3)\n",
        "cv_acc = cross_validate(clf, feat_train, target_train, cv=10, scoring='accuracy')\n",
        "cv_f1 = cross_validate(clf, feat_train, target_train, cv=10, scoring='f1')"
      ],
      "execution_count": 10,
      "outputs": []
    },
    {
      "cell_type": "code",
      "metadata": {
        "colab": {
          "base_uri": "https://localhost:8080/"
        },
        "id": "S1YvZlwRfm3q",
        "outputId": "b7880aaa-2a09-4369-a266-c7d4d4ad01aa"
      },
      "source": [
        "# Cross Validation Data\n",
        "\n",
        "acc = round(cv_acc['test_score'].mean()*100,2)\n",
        "f1 = cv_f1['test_score'].mean()\n",
        "print(f'Mean Accuracy: {acc}%\\nMean F1-Score: {f1}')"
      ],
      "execution_count": 11,
      "outputs": [
        {
          "output_type": "stream",
          "text": [
            "Mean Accuracy: 89.79%\n",
            "Mean F1-Score: 0.24667004115727176\n"
          ],
          "name": "stdout"
        }
      ]
    },
    {
      "cell_type": "code",
      "metadata": {
        "colab": {
          "base_uri": "https://localhost:8080/",
          "height": 136
        },
        "id": "qmbWUcW3zpjL",
        "outputId": "37d22433-c301-49f7-8dc5-36230bb77fe1"
      },
      "source": [
        "# Running Classifier on Data\n",
        "\n",
        "clf.fit(feat_train, target_train)\n",
        "j = {'feature' : data.drop(columns='y').columns.copy(), 'importance' : clf.feature_importances_}\n",
        "df = pd.DataFrame.from_dict(j)\n",
        "df = df.sort_values(by='importance',ascending=False)\n",
        "df.head(3)"
      ],
      "execution_count": 14,
      "outputs": [
        {
          "output_type": "execute_result",
          "data": {
            "text/html": [
              "<div>\n",
              "<style scoped>\n",
              "    .dataframe tbody tr th:only-of-type {\n",
              "        vertical-align: middle;\n",
              "    }\n",
              "\n",
              "    .dataframe tbody tr th {\n",
              "        vertical-align: top;\n",
              "    }\n",
              "\n",
              "    .dataframe thead th {\n",
              "        text-align: right;\n",
              "    }\n",
              "</style>\n",
              "<table border=\"1\" class=\"dataframe\">\n",
              "  <thead>\n",
              "    <tr style=\"text-align: right;\">\n",
              "      <th></th>\n",
              "      <th>feature</th>\n",
              "      <th>importance</th>\n",
              "    </tr>\n",
              "  </thead>\n",
              "  <tbody>\n",
              "    <tr>\n",
              "      <th>8</th>\n",
              "      <td>nr.employed</td>\n",
              "      <td>0.185403</td>\n",
              "    </tr>\n",
              "    <tr>\n",
              "      <th>7</th>\n",
              "      <td>euribor3m</td>\n",
              "      <td>0.177953</td>\n",
              "    </tr>\n",
              "    <tr>\n",
              "      <th>2</th>\n",
              "      <td>pdays</td>\n",
              "      <td>0.131090</td>\n",
              "    </tr>\n",
              "  </tbody>\n",
              "</table>\n",
              "</div>"
            ],
            "text/plain": [
              "       feature  importance\n",
              "8  nr.employed    0.185403\n",
              "7    euribor3m    0.177953\n",
              "2        pdays    0.131090"
            ]
          },
          "metadata": {
            "tags": []
          },
          "execution_count": 14
        }
      ]
    },
    {
      "cell_type": "code",
      "metadata": {
        "colab": {
          "base_uri": "https://localhost:8080/",
          "height": 625
        },
        "id": "E4TvD-DB3rPq",
        "outputId": "db0eef46-ea4b-489c-a61d-c70176c0cf98"
      },
      "source": [
        "# Plotting Fearure Importance\n",
        "\n",
        "top10 = df.head(10)\n",
        "fig = plt.figure(figsize=(17.5,10))\n",
        "plt.title(\"Feature Importances\")\n",
        "plt.bar(top10['feature'],top10['importance'])"
      ],
      "execution_count": 15,
      "outputs": [
        {
          "output_type": "execute_result",
          "data": {
            "text/plain": [
              "<BarContainer object of 10 artists>"
            ]
          },
          "metadata": {
            "tags": []
          },
          "execution_count": 15
        },
        {
          "output_type": "display_data",
          "data": {
            "image/png": "[encoded data removed]",
            "text/plain": [
              "<Figure size 1260x720 with 1 Axes>"
            ]
          },
          "metadata": {
            "tags": [],
            "needs_background": "light"
          }
        }
      ]
    },
    {
      "cell_type": "code",
      "metadata": {
        "colab": {
          "base_uri": "https://localhost:8080/"
        },
        "id": "zBeW_V3b00Ss",
        "outputId": "1819b95b-7c5f-40cd-b485-f0eab9ef17b6"
      },
      "source": [
        "# Evaluating Model\n",
        "\n",
        "ypred = clf.predict(feat_test)\n",
        "print(f'Accuracy: {round(metrics.accuracy_score(ypred,target_test)*100,2)}%\\n')\n",
        "print(metrics.confusion_matrix(ypred,target_test))"
      ],
      "execution_count": 19,
      "outputs": [
        {
          "output_type": "stream",
          "text": [
            "Accuracy: 90.0%\n",
            "\n",
            "[[7246  760]\n",
            " [  64  168]]\n"
          ],
          "name": "stdout"
        }
      ]
    },
    {
      "cell_type": "code",
      "metadata": {
        "colab": {
          "base_uri": "https://localhost:8080/"
        },
        "id": "JgDsRx6kjboz",
        "outputId": "707506d8-2264-4011-c14b-4f27976d918c"
      },
      "source": [
        "# Comparing with Dummy Classifier\n",
        "\n",
        "dummy_clf = DummyClassifier(strategy='stratified')\n",
        "dummy_clf.fit(feat_train, target_train)\n",
        "dummy_clf.predict(feat_train)\n",
        "print(f'Dummy Classifier Accuracy: {dummy_clf.score(feat_train,target_train)*100}%')"
      ],
      "execution_count": 26,
      "outputs": [
        {
          "output_type": "stream",
          "text": [
            "Dummy Classifier Accuracy: 79.88467374810318%\n"
          ],
          "name": "stdout"
        }
      ]
    },
    {
      "cell_type": "markdown",
      "metadata": {
        "id": "lST__p2akoy3"
      },
      "source": [
        "## Setting Up GridSearch"
      ]
    },
    {
      "cell_type": "code",
      "metadata": {
        "id": "LJVI9g30kmo2"
      },
      "source": [
        "estimator = RandomForestClassifier(n_estimators=100, max_depth=3)\n",
        "param_grid = {'n_estimators':[100, 500 ,1000],\n",
        "              'max_depth': [3, 9, 27]}\n",
        "\n",
        "GS_f1 = GridSearchCV(estimator=estimator, param_grid=param_grid, scoring='f1', cv=3, n_jobs=-1)"
      ],
      "execution_count": 27,
      "outputs": []
    },
    {
      "cell_type": "code",
      "metadata": {
        "id": "3hr2pCq0nsW5",
        "colab": {
          "base_uri": "https://localhost:8080/"
        },
        "outputId": "290df914-95f1-43b6-9c84-db29e0d84b8d"
      },
      "source": [
        "# Fitting GridSearch Objects\n",
        "\n",
        "optclf_f1 = GS_f1.fit(feat_train, target_train)"
      ],
      "execution_count": 29,
      "outputs": [
        {
          "output_type": "stream",
          "text": [
            "/usr/local/lib/python3.7/dist-packages/joblib/externals/loky/process_executor.py:691: UserWarning: A worker stopped while some jobs were given to the executor. This can be caused by a too short worker timeout or by a memory leak.\n",
            "  \"timeout or by a memory leak.\", UserWarning\n"
          ],
          "name": "stderr"
        }
      ]
    },
    {
      "cell_type": "code",
      "metadata": {
        "id": "qYSJ4yFjyjPB",
        "colab": {
          "base_uri": "https://localhost:8080/"
        },
        "outputId": "078dbc6f-5a15-4acd-b898-d94954132e85"
      },
      "source": [
        "optclf_f1.best_estimator_"
      ],
      "execution_count": 30,
      "outputs": [
        {
          "output_type": "execute_result",
          "data": {
            "text/plain": [
              "RandomForestClassifier(bootstrap=True, ccp_alpha=0.0, class_weight=None,\n",
              "                       criterion='gini', max_depth=27, max_features='auto',\n",
              "                       max_leaf_nodes=None, max_samples=None,\n",
              "                       min_impurity_decrease=0.0, min_impurity_split=None,\n",
              "                       min_samples_leaf=1, min_samples_split=2,\n",
              "                       min_weight_fraction_leaf=0.0, n_estimators=1000,\n",
              "                       n_jobs=None, oob_score=False, random_state=None,\n",
              "                       verbose=0, warm_start=False)"
            ]
          },
          "metadata": {
            "tags": []
          },
          "execution_count": 30
        }
      ]
    },
    {
      "cell_type": "code",
      "metadata": {
        "id": "mb6v9sQfv1ux"
      },
      "source": [
        "bpred = optclf_f1.best_estimator_.predict(feat_test)"
      ],
      "execution_count": 32,
      "outputs": []
    },
    {
      "cell_type": "code",
      "metadata": {
        "id": "DqxAFnH98Fz3",
        "colab": {
          "base_uri": "https://localhost:8080/"
        },
        "outputId": "fe6c1afb-d75f-4469-9b37-da9bad2e4596"
      },
      "source": [
        "# Compute confusion matrix\n",
        "from sklearn.metrics import confusion_matrix, accuracy_score\n",
        "cnf_matrix = confusion_matrix(target_test, bpred)\n",
        "cnf_acc = accuracy_score(target_test, bpred)\n",
        "np.set_printoptions(precision=2)\n",
        "print(f'Confusion Matrix:\\n{cnf_matrix}\\nAccuracy Score: {round(cnf_acc*100,2)}%')"
      ],
      "execution_count": 34,
      "outputs": [
        {
          "output_type": "stream",
          "text": [
            "Confusion Matrix:\n",
            "[[7082  228]\n",
            " [ 648  280]]\n",
            "Accuracy Score: 89.37%\n"
          ],
          "name": "stdout"
        }
      ]
    }
  ]
}